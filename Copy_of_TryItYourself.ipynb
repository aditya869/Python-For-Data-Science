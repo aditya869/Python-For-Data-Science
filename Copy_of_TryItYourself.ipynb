{
  "nbformat": 4,
  "nbformat_minor": 0,
  "metadata": {
    "colab": {
      "name": "Copy of TryItYourself.ipynb",
      "provenance": [],
      "collapsed_sections": [],
      "include_colab_link": true
    },
    "kernelspec": {
      "name": "python3",
      "display_name": "Python 3"
    }
  },
  "cells": [
    {
      "cell_type": "markdown",
      "metadata": {
        "id": "view-in-github",
        "colab_type": "text"
      },
      "source": [
        "<a href=\"https://colab.research.google.com/github/aditya869/Python-For-Data-Science/blob/master/Copy_of_TryItYourself.ipynb\" target=\"_parent\"><img src=\"https://colab.research.google.com/assets/colab-badge.svg\" alt=\"Open In Colab\"/></a>"
      ]
    },
    {
      "cell_type": "markdown",
      "metadata": {
        "id": "gjV_H3pQjDU_",
        "colab_type": "text"
      },
      "source": [
        "###exercise:"
      ]
    },
    {
      "cell_type": "code",
      "metadata": {
        "id": "cN4QgkFSfzO2",
        "colab_type": "code",
        "colab": {}
      },
      "source": [
        "for x in [0, 1, 2]:\n",
        "  pass"
      ],
      "execution_count": null,
      "outputs": []
    },
    {
      "cell_type": "code",
      "metadata": {
        "id": "9WIhd-PdgUYB",
        "colab_type": "code",
        "colab": {}
      },
      "source": [
        "for x in range(6):\n",
        "  print(x)\n",
        "else:\n",
        "  print(\"Finally finished!\")"
      ],
      "execution_count": null,
      "outputs": []
    },
    {
      "cell_type": "markdown",
      "metadata": {
        "id": "EnC3EnPFggpU",
        "colab_type": "text"
      },
      "source": [
        "###1.Loop through the items in the fruits list."
      ]
    },
    {
      "cell_type": "markdown",
      "metadata": {
        "id": "RRFYiH5ph6G7",
        "colab_type": "text"
      },
      "source": [
        "#### hint: looping"
      ]
    },
    {
      "cell_type": "code",
      "metadata": {
        "id": "Pr9CC2X7gY5C",
        "colab_type": "code",
        "colab": {
          "base_uri": "https://localhost:8080/",
          "height": 68
        },
        "outputId": "a973e276-06d0-4099-a8e9-66502aa8f45a"
      },
      "source": [
        "fruits = [\"apple\", \"banana\", \"cherry\"]\n",
        "for x in fruits:\n",
        "  print(x)"
      ],
      "execution_count": null,
      "outputs": [
        {
          "output_type": "stream",
          "text": [
            "apple\n",
            "banana\n",
            "cherry\n"
          ],
          "name": "stdout"
        }
      ]
    },
    {
      "cell_type": "markdown",
      "metadata": {
        "id": "gyJJYdtnhQAD",
        "colab_type": "text"
      },
      "source": [
        "###2.Print i as long as i is less than 6."
      ]
    },
    {
      "cell_type": "markdown",
      "metadata": {
        "id": "zGxKNz5EiBjQ",
        "colab_type": "text"
      },
      "source": [
        "#### hint:looping"
      ]
    },
    {
      "cell_type": "code",
      "metadata": {
        "id": "zOI81loThR1o",
        "colab_type": "code",
        "colab": {
          "base_uri": "https://localhost:8080/",
          "height": 102
        },
        "outputId": "5c5d9579-2a0a-492c-8290-f805c17153c8"
      },
      "source": [
        "i = 1\n",
        "while i < 6: \n",
        "  print(i)\n",
        "  i += 1"
      ],
      "execution_count": null,
      "outputs": [
        {
          "output_type": "stream",
          "text": [
            "1\n",
            "2\n",
            "3\n",
            "4\n",
            "5\n"
          ],
          "name": "stdout"
        }
      ]
    },
    {
      "cell_type": "markdown",
      "metadata": {
        "id": "SOf4rNQThr-w",
        "colab_type": "text"
      },
      "source": [
        "### 3.Print \"Hello World if a is greater than b."
      ]
    },
    {
      "cell_type": "markdown",
      "metadata": {
        "id": "20pokKOjiFR_",
        "colab_type": "text"
      },
      "source": [
        "####hint: conditional statements"
      ]
    },
    {
      "cell_type": "code",
      "metadata": {
        "id": "-F24Bx7nhtKl",
        "colab_type": "code",
        "colab": {
          "base_uri": "https://localhost:8080/",
          "height": 34
        },
        "outputId": "8430d0c4-3c1e-44fe-a76e-eb6794a7eaea"
      },
      "source": [
        "a = 50\n",
        "b = 10\n",
        "if a > b:\n",
        "  print(\"Hello World\")"
      ],
      "execution_count": null,
      "outputs": [
        {
          "output_type": "stream",
          "text": [
            "Hello World\n"
          ],
          "name": "stdout"
        }
      ]
    },
    {
      "cell_type": "markdown",
      "metadata": {
        "id": "SfnSOGHxiXDv",
        "colab_type": "text"
      },
      "source": [
        "###4.Take a variable x and print \"Even\" if the number(x) is divisible by 2, otherwise print \"Odd\"."
      ]
    },
    {
      "cell_type": "code",
      "metadata": {
        "id": "N_3U688vicnf",
        "colab_type": "code",
        "colab": {
          "base_uri": "https://localhost:8080/",
          "height": 51
        },
        "outputId": "cd6d9e0e-29d6-4787-fcae-0ac66844307e"
      },
      "source": [
        "num = int(input(\"Enter a number:\"))\n",
        "if  (num % 2) == 0:\n",
        "    print(\"{0} is Even\".format(num)) \n",
        "else:\n",
        "    print(\"{0} is odd\".format(num))   "
      ],
      "execution_count": null,
      "outputs": [
        {
          "output_type": "stream",
          "text": [
            "Enter a number:5\n",
            "5 is odd\n"
          ],
          "name": "stdout"
        }
      ]
    },
    {
      "cell_type": "markdown",
      "metadata": {
        "id": "JzTQ0B3YimHB",
        "colab_type": "text"
      },
      "source": [
        "###5.Take a variable y and print \"Grade A\" if y is greater than 90, \"Grade B\" if y is greater than 60 but less than or equal to 90 and \"Grade F\" Otherwise."
      ]
    },
    {
      "cell_type": "code",
      "metadata": {
        "id": "PY_I-PD4ioaM",
        "colab_type": "code",
        "colab": {
          "base_uri": "https://localhost:8080/",
          "height": 68
        },
        "outputId": "bf5e7003-296e-4c25-d9df-ac9fcaadb6a6"
      },
      "source": [
        "y = int(input())\n",
        "print(y)\n",
        "if(y>90):\n",
        "    print(\"Grade A\")\n",
        "elif(90>=y>60):\n",
        "    print(\"Grand B\")\n",
        "else:\n",
        "    print(\"otherwise\")       "
      ],
      "execution_count": 2,
      "outputs": [
        {
          "output_type": "stream",
          "text": [
            "45\n",
            "45\n",
            "otherwise\n"
          ],
          "name": "stdout"
        }
      ]
    },
    {
      "cell_type": "markdown",
      "metadata": {
        "id": "on16MmsWiwAq",
        "colab_type": "text"
      },
      "source": [
        "###6. Write a for loop to print all the numbers between 10 and 50."
      ]
    },
    {
      "cell_type": "code",
      "metadata": {
        "id": "e8zSNg0tixpa",
        "colab_type": "code",
        "colab": {
          "base_uri": "https://localhost:8080/",
          "height": 697
        },
        "outputId": "9bf91dea-f75e-41bd-e536-e20ed707d09c"
      },
      "source": [
        "for i in range(10,50):\n",
        "    print(i) "
      ],
      "execution_count": null,
      "outputs": [
        {
          "output_type": "stream",
          "text": [
            "10\n",
            "11\n",
            "12\n",
            "13\n",
            "14\n",
            "15\n",
            "16\n",
            "17\n",
            "18\n",
            "19\n",
            "20\n",
            "21\n",
            "22\n",
            "23\n",
            "24\n",
            "25\n",
            "26\n",
            "27\n",
            "28\n",
            "29\n",
            "30\n",
            "31\n",
            "32\n",
            "33\n",
            "34\n",
            "35\n",
            "36\n",
            "37\n",
            "38\n",
            "39\n",
            "40\n",
            "41\n",
            "42\n",
            "43\n",
            "44\n",
            "45\n",
            "46\n",
            "47\n",
            "48\n",
            "49\n"
          ],
          "name": "stdout"
        }
      ]
    },
    {
      "cell_type": "markdown",
      "metadata": {
        "id": "5lmW_684iyji",
        "colab_type": "text"
      },
      "source": [
        "###7.Write a for loop to print all the 0dd numbers between 50 and 100."
      ]
    },
    {
      "cell_type": "markdown",
      "metadata": {
        "id": "OPKRvXBZi7Yl",
        "colab_type": "text"
      },
      "source": [
        "#### hint: use range with step."
      ]
    },
    {
      "cell_type": "code",
      "metadata": {
        "id": "IycxIyJki3v_",
        "colab_type": "code",
        "colab": {
          "base_uri": "https://localhost:8080/",
          "height": 476
        },
        "outputId": "455849ec-754a-4d43-811f-c641ec6fb9c3"
      },
      "source": [
        "lower=int(input(\"Enter the lower limit for the range:\"))\n",
        "upper=int(input(\"Enter the upper limit for the range:\"))\n",
        "for i in range(lower,upper+1):\n",
        "    if(i%2!=0):\n",
        "       print(i)"
      ],
      "execution_count": null,
      "outputs": [
        {
          "output_type": "stream",
          "text": [
            "Enter the lower limit for the range:50\n",
            "Enter the upper limit for the range:100\n",
            "51\n",
            "53\n",
            "55\n",
            "57\n",
            "59\n",
            "61\n",
            "63\n",
            "65\n",
            "67\n",
            "69\n",
            "71\n",
            "73\n",
            "75\n",
            "77\n",
            "79\n",
            "81\n",
            "83\n",
            "85\n",
            "87\n",
            "89\n",
            "91\n",
            "93\n",
            "95\n",
            "97\n",
            "99\n"
          ],
          "name": "stdout"
        }
      ]
    }
  ]
}